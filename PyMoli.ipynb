{
 "cells": [
  {
   "cell_type": "code",
   "execution_count": 34,
   "metadata": {
    "collapsed": true
   },
   "outputs": [],
   "source": [
    "# ----------------------------------\n",
    "# Step 0: Import modules\n",
    "# ----------------------------------\n",
    "import pandas as pd"
   ]
  },
  {
   "cell_type": "code",
   "execution_count": 35,
   "metadata": {},
   "outputs": [
    {
     "name": "stdout",
     "output_type": "stream",
     "text": [
      "Welcome to Pymoli Data Analysis!\n",
      "To analyze a file with purchase data, please enter the filename below.\n",
      "WARNING: Please include the complete filepath! \n",
      "\n",
      "Enter filename here: data/purchase_data.json\n"
     ]
    }
   ],
   "source": [
    "# ----------------------------------\n",
    "# Step 1: Get the filename, then Read in and clean data.\n",
    "# ----------------------------------\n",
    "\n",
    "# Give the user instructions\n",
    "print(\"Welcome to Pymoli Data Analysis!\")\n",
    "print(\"To analyze a file with purchase data, please enter the filename below.\")\n",
    "print(\"WARNING: Please include the complete filepath! \\n\")\n",
    "\n",
    "filename = input(\"Enter filename here: \")"
   ]
  },
  {
   "cell_type": "code",
   "execution_count": 36,
   "metadata": {},
   "outputs": [
    {
     "data": {
      "text/html": [
       "<div>\n",
       "<style scoped>\n",
       "    .dataframe tbody tr th:only-of-type {\n",
       "        vertical-align: middle;\n",
       "    }\n",
       "\n",
       "    .dataframe tbody tr th {\n",
       "        vertical-align: top;\n",
       "    }\n",
       "\n",
       "    .dataframe thead th {\n",
       "        text-align: right;\n",
       "    }\n",
       "</style>\n",
       "<table border=\"1\" class=\"dataframe\">\n",
       "  <thead>\n",
       "    <tr style=\"text-align: right;\">\n",
       "      <th></th>\n",
       "      <th>Age</th>\n",
       "      <th>Gender</th>\n",
       "      <th>Item ID</th>\n",
       "      <th>Item Name</th>\n",
       "      <th>Price</th>\n",
       "      <th>SN</th>\n",
       "    </tr>\n",
       "  </thead>\n",
       "  <tbody>\n",
       "    <tr>\n",
       "      <th>0</th>\n",
       "      <td>38</td>\n",
       "      <td>Male</td>\n",
       "      <td>165</td>\n",
       "      <td>Bone Crushing Silver Skewer</td>\n",
       "      <td>3.37</td>\n",
       "      <td>Aelalis34</td>\n",
       "    </tr>\n",
       "    <tr>\n",
       "      <th>1</th>\n",
       "      <td>21</td>\n",
       "      <td>Male</td>\n",
       "      <td>119</td>\n",
       "      <td>Stormbringer, Dark Blade of Ending Misery</td>\n",
       "      <td>2.32</td>\n",
       "      <td>Eolo46</td>\n",
       "    </tr>\n",
       "    <tr>\n",
       "      <th>2</th>\n",
       "      <td>34</td>\n",
       "      <td>Male</td>\n",
       "      <td>174</td>\n",
       "      <td>Primitive Blade</td>\n",
       "      <td>2.46</td>\n",
       "      <td>Assastnya25</td>\n",
       "    </tr>\n",
       "    <tr>\n",
       "      <th>3</th>\n",
       "      <td>21</td>\n",
       "      <td>Male</td>\n",
       "      <td>92</td>\n",
       "      <td>Final Critic</td>\n",
       "      <td>1.36</td>\n",
       "      <td>Pheusrical25</td>\n",
       "    </tr>\n",
       "    <tr>\n",
       "      <th>4</th>\n",
       "      <td>23</td>\n",
       "      <td>Male</td>\n",
       "      <td>63</td>\n",
       "      <td>Stormfury Mace</td>\n",
       "      <td>1.27</td>\n",
       "      <td>Aela59</td>\n",
       "    </tr>\n",
       "  </tbody>\n",
       "</table>\n",
       "</div>"
      ],
      "text/plain": [
       "   Age Gender  Item ID                                  Item Name  Price  \\\n",
       "0   38   Male      165                Bone Crushing Silver Skewer   3.37   \n",
       "1   21   Male      119  Stormbringer, Dark Blade of Ending Misery   2.32   \n",
       "2   34   Male      174                            Primitive Blade   2.46   \n",
       "3   21   Male       92                               Final Critic   1.36   \n",
       "4   23   Male       63                             Stormfury Mace   1.27   \n",
       "\n",
       "             SN  \n",
       "0     Aelalis34  \n",
       "1        Eolo46  \n",
       "2   Assastnya25  \n",
       "3  Pheusrical25  \n",
       "4        Aela59  "
      ]
     },
     "execution_count": 36,
     "metadata": {},
     "output_type": "execute_result"
    }
   ],
   "source": [
    "# Read in the data file\n",
    "purchases_df = pd.read_json(filename, orient='records')\n",
    "\n",
    "# make sure everything is the right data type to use\n",
    "purchases_df['Price']= purchases_df['Price'].replace(\"%\",\"\", regex=True).astype(float)\n",
    "\n",
    "# check and remove null values\n",
    "purchases_df.dropna(how='any')\n",
    "purchases_df.head()"
   ]
  },
  {
   "cell_type": "code",
   "execution_count": 44,
   "metadata": {},
   "outputs": [],
   "source": [
    "# ----------------------------------\n",
    "# Step 2: Analyze the players: Look at \n",
    "# Total number of players & Gender demographics\n",
    "# ----------------------------------\n",
    "\n",
    "# Total Number of players\n",
    "num_players_total = len(purchases_df.groupby('SN').count())\n",
    "\n",
    "# count and % of male players\n",
    "num_players_male = purchases_df[purchases_df['Gender']=='Male'].count()['SN']\n",
    "percent_players_male = num_players_male/num_players_total\n",
    "\n",
    "# count and % of female players\n",
    "num_players_female = purchases_df[purchases_df['Gender']=='Female'].count()['SN']\n",
    "percent_players_female = num_players_female/num_players_total\n",
    "\n",
    "# count and % of other/non-disclosed players\n",
    "num_players_other = purchases_df[purchases_df['Gender']=='Other / Non-Disclosed'].count()['SN']\n",
    "percent_players_other = num_players_other/num_players_total\n",
    "\n",
    "# ----------------------------------\n",
    "# End Step 2\n",
    "# ----------------------------------"
   ]
  },
  {
   "cell_type": "markdown",
   "metadata": {},
   "source": [
    "## Top Spenders\n",
    "\n",
    "- Identify the the top 5 spenders in the game by total purchase value, then list (in a table):\n",
    " - SN\n",
    " - Purchase Count\n",
    " - Average Purchase Price\n",
    " - Total Purchase Value"
   ]
  },
  {
   "cell_type": "code",
   "execution_count": 118,
   "metadata": {},
   "outputs": [
    {
     "data": {
      "text/html": [
       "<div>\n",
       "<style scoped>\n",
       "    .dataframe tbody tr th:only-of-type {\n",
       "        vertical-align: middle;\n",
       "    }\n",
       "\n",
       "    .dataframe tbody tr th {\n",
       "        vertical-align: top;\n",
       "    }\n",
       "\n",
       "    .dataframe thead th {\n",
       "        text-align: right;\n",
       "    }\n",
       "</style>\n",
       "<table border=\"1\" class=\"dataframe\">\n",
       "  <thead>\n",
       "    <tr style=\"text-align: right;\">\n",
       "      <th></th>\n",
       "      <th>Purchase Count</th>\n",
       "      <th>Average Purchase Price</th>\n",
       "      <th>Total Amount Purchased</th>\n",
       "    </tr>\n",
       "    <tr>\n",
       "      <th>Screen Name</th>\n",
       "      <th></th>\n",
       "      <th></th>\n",
       "      <th></th>\n",
       "    </tr>\n",
       "  </thead>\n",
       "  <tbody>\n",
       "    <tr>\n",
       "      <th>Eoda93</th>\n",
       "      <td>5</td>\n",
       "      <td>$3.41</td>\n",
       "      <td>$17.06</td>\n",
       "    </tr>\n",
       "    <tr>\n",
       "      <th>Haellysu29</th>\n",
       "      <td>4</td>\n",
       "      <td>$3.39</td>\n",
       "      <td>$13.56</td>\n",
       "    </tr>\n",
       "    <tr>\n",
       "      <th>Mindimnya67</th>\n",
       "      <td>4</td>\n",
       "      <td>$3.18</td>\n",
       "      <td>$12.74</td>\n",
       "    </tr>\n",
       "    <tr>\n",
       "      <th>Saedue76</th>\n",
       "      <td>3</td>\n",
       "      <td>$4.24</td>\n",
       "      <td>$12.73</td>\n",
       "    </tr>\n",
       "    <tr>\n",
       "      <th>Undirrala66</th>\n",
       "      <td>3</td>\n",
       "      <td>$3.86</td>\n",
       "      <td>$11.58</td>\n",
       "    </tr>\n",
       "  </tbody>\n",
       "</table>\n",
       "</div>"
      ],
      "text/plain": [
       "             Purchase Count Average Purchase Price Total Amount Purchased\n",
       "Screen Name                                                              \n",
       "Eoda93                    5                  $3.41                 $17.06\n",
       "Haellysu29                4                  $3.39                 $13.56\n",
       "Mindimnya67               4                  $3.18                 $12.74\n",
       "Saedue76                  3                  $4.24                 $12.73\n",
       "Undirrala66               3                  $3.86                 $11.58"
      ]
     },
     "execution_count": 118,
     "metadata": {},
     "output_type": "execute_result"
    }
   ],
   "source": [
    "# ----------------------------------\n",
    "# Step 3: Purchasing Analysis\n",
    "# 1) Top Spenders\n",
    "# 2) Purchasing Analysis (Total)\n",
    "# 3) Purchasing Analysis (Gender)\n",
    "# 4) Age Demographics\n",
    "# ----------------------------------\n",
    "\n",
    "# ----------------------------------\n",
    "# Question 1 - Top Spenders\n",
    "# ----------------------------------\n",
    "\n",
    "# identify top five spender by total puchase value\n",
    "purchases_byPurchaseValue_df = purchases_df.groupby('SN').sum().sort_values('Price',ascending=False)\n",
    "top_five_spenders_bySN = list(purchases_byPurchaseValue_df[0:5].reset_index()['SN'])\n",
    "\n",
    "# using the screen names of the top five, get their purchase count, average, and total\n",
    "top_five_purchase_count = list(purchases_df[purchases_df['SN'].isin(top_five_spenders_bySN)].\\\n",
    "                               groupby('SN').count()['Age'])\n",
    "top_five_purchase_avg = list(purchases_df[purchases_df['SN'].isin(top_five_spenders_bySN)].\\\n",
    "                             groupby('SN').mean()['Price'])\n",
    "top_five_purchase_total = list(purchases_df[purchases_df['SN'].isin(top_five_spenders_bySN)].\\\n",
    "                               groupby('SN').sum()['Price'])\n",
    "\n",
    "# list in a table the top five's SN, purchase count, average purchase price, total purchase value\n",
    "top_spenders_analysis_df = pd.DataFrame({'Screen Name':top_five_spenders_bySN,\\\n",
    "                                         'Purchase Count':top_five_purchase_count,\\\n",
    "                                         'Average Purchase Price':['${:,.2f}'.format(x) for x in top_five_purchase_avg],\\\n",
    "                                         'Total Amount Purchased':['${:,.2f}'.format(x) for x in top_five_purchase_total]}).\\\n",
    "                                        sort_values('Total Amount Purchased', ascending=False)\n",
    "    \n",
    "# rerrange the columns in a logical order\n",
    "top_spenders_analysis_df = top_spenders_analysis_df.set_index('Screen Name')\n",
    "top_spenders_analysis_df = top_spenders_analysis_df[['Purchase Count', 'Average Purchase Price',\\\n",
    "                                                     'Total Amount Purchased']]\n",
    "\n",
    "# show top spender analysis\n",
    "top_spenders_analysis_df"
   ]
  },
  {
   "cell_type": "markdown",
   "metadata": {},
   "source": [
    "## Purchasing Analysis (Total)\n",
    "\n",
    "- Number of Unique Items\n",
    "- Average Purchase Price\n",
    "- Total Number of Purchases\n",
    "- Total Revenue"
   ]
  },
  {
   "cell_type": "code",
   "execution_count": null,
   "metadata": {
    "collapsed": true
   },
   "outputs": [],
   "source": []
  },
  {
   "cell_type": "markdown",
   "metadata": {},
   "source": [
    "## Purchasing Analysis (Gender)\n",
    "\n",
    "- The below each broken by gender\n",
    " - Purchase Count\n",
    " - Average Purchase Price\n",
    " - Total Purchase Value\n",
    " - Normalized Totals\n",
    " - Age Demographics"
   ]
  },
  {
   "cell_type": "markdown",
   "metadata": {},
   "source": [
    "\n",
    "## Purchasing Analysis (Age)\n",
    "\n",
    "- The below each broken into bins of 4 years (i.e. <10, 10-14, 15-19, etc.)\n",
    " - Purchase Count\n",
    " - Average Purchase Price\n",
    " - Total Purchase Value\n",
    " - Normalized Totals"
   ]
  },
  {
   "cell_type": "code",
   "execution_count": null,
   "metadata": {
    "collapsed": true
   },
   "outputs": [],
   "source": [
    "# ----------------------------------\n",
    "# Step 4: Items analysis\n",
    "# 1) Most Popular Items\n",
    "# 2) Most Profitable Items\n",
    "# ----------------------------------"
   ]
  }
 ],
 "metadata": {
  "kernelspec": {
   "display_name": "Python [conda env:PythonData]",
   "language": "python",
   "name": "conda-env-PythonData-py"
  },
  "language_info": {
   "codemirror_mode": {
    "name": "ipython",
    "version": 3
   },
   "file_extension": ".py",
   "mimetype": "text/x-python",
   "name": "python",
   "nbconvert_exporter": "python",
   "pygments_lexer": "ipython3",
   "version": "3.6.3"
  }
 },
 "nbformat": 4,
 "nbformat_minor": 2
}
